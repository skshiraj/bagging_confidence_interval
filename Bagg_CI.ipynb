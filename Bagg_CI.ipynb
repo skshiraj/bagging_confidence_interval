{
 "cells": [
  {
   "cell_type": "markdown",
   "metadata": {
    "colab_type": "text",
    "id": "AjzGopb_YcKR"
   },
   "source": [
    "# Application of Bootstrap samples in Random Forest"
   ]
  },
  {
   "cell_type": "code",
   "execution_count": 1,
   "metadata": {
    "colab": {},
    "colab_type": "code",
    "id": "zZSCtDI6YcKT"
   },
   "outputs": [],
   "source": [
    "import numpy as np\n",
    "from sklearn.datasets import load_boston\n",
    "from sklearn.metrics import mean_squared_error\n",
    "import warnings\n",
    "warnings.filterwarnings(\"ignore\")"
   ]
  },
  {
   "cell_type": "markdown",
   "metadata": {
    "colab_type": "text",
    "id": "h2Y1Z1DoYcKZ"
   },
   "source": [
    " <li> Load the boston house dataset </li>"
   ]
  },
  {
   "cell_type": "code",
   "execution_count": 2,
   "metadata": {
    "colab": {},
    "colab_type": "code",
    "id": "wBWRNKCDYcKb"
   },
   "outputs": [],
   "source": [
    "boston = load_boston()\n",
    "x=boston.data #independent variables\n",
    "y=boston.target #target variable"
   ]
  },
  {
   "cell_type": "code",
   "execution_count": 3,
   "metadata": {
    "scrolled": true
   },
   "outputs": [
    {
     "data": {
      "text/plain": [
       "(506, 13)"
      ]
     },
     "execution_count": 3,
     "metadata": {},
     "output_type": "execute_result"
    }
   ],
   "source": [
    "x.shape"
   ]
  },
  {
   "cell_type": "code",
   "execution_count": 4,
   "metadata": {
    "scrolled": true
   },
   "outputs": [
    {
     "data": {
      "text/plain": [
       "(506, 14)"
      ]
     },
     "execution_count": 4,
     "metadata": {},
     "output_type": "execute_result"
    }
   ],
   "source": [
    "y = y.reshape(506,1)\n",
    "x=np.append(x, y,axis=1)\n",
    "x.shape"
   ]
  },
  {
   "cell_type": "code",
   "execution_count": 5,
   "metadata": {},
   "outputs": [
    {
     "data": {
      "text/plain": [
       "array([21.6])"
      ]
     },
     "execution_count": 5,
     "metadata": {},
     "output_type": "execute_result"
    }
   ],
   "source": [
    "y[1]"
   ]
  },
  {
   "cell_type": "code",
   "execution_count": 6,
   "metadata": {},
   "outputs": [
    {
     "data": {
      "text/plain": [
       "21.6"
      ]
     },
     "execution_count": 6,
     "metadata": {},
     "output_type": "execute_result"
    }
   ],
   "source": [
    "x[1][13]"
   ]
  },
  {
   "cell_type": "markdown",
   "metadata": {
    "colab_type": "text",
    "id": "JJ_FwP7xYcKg"
   },
   "source": [
    "### Task: 1"
   ]
  },
  {
   "cell_type": "markdown",
   "metadata": {
    "colab_type": "text",
    "id": "JJ_FwP7xYcKg"
   },
   "source": [
    "<font color='red'><b>Step 1 Creating samples: </b></font> Randomly create 30 samples from the whole boston data points.\n",
    "<ol>\n",
    "<li>Creating each sample: Consider any random 303(60% of 506) data points from whole data set and then replicate any 203 points from the sampled points</li>\n",
    "<li>Ex: For better understanding of this procedure lets check this examples, assume we have 10 data points [1,2,3,4,5,6,7,8,9,10], first we take 6 data points randomly consider we have selected [4, 5, 7, 8, 9, 3] now we will replciate 4 points from [4, 5, 7, 8, 9, 3], consder they are [5, 8, 3,7] so our final sample will be [4, 5, 7, 8, 9, 3, 5, 8, 3,7]</li>\n",
    "<li> we create 30 samples like this </li>\n",
    "<li> Note that as a part of the Bagging when you are taking the random samples make sure each of the sample will have                different set of columns</li>\n",
    "<li> Ex: assume we have 10 columns for the first sample we will select [3, 4, 5, 9, 1, 2] and for the second sample [7, 9, 1, 4, 5, 6, 2] and so on...</li>\n",
    "<li> Make sure each sample will have atleast 3 feautres/columns/attributes</li>\n",
    "</ol>"
   ]
  },
  {
   "cell_type": "code",
   "execution_count": 7,
   "metadata": {},
   "outputs": [],
   "source": [
    "def create_sam(x):\n",
    "    x1 = x[np.random.choice(x.shape[0], 303, replace=False), :]\n",
    "    x1_ = x1[np.random.choice(x1.shape[0], 203, replace=True), :]\n",
    "    x1 = np.concatenate((x1, x1_))\n",
    "    f = np.random.choice(x.shape[1]-1, np.random.randint(3,x.shape[1]-1,1), replace=False)\n",
    "    x1 = x1[:,np.append(f,np.array([13]))]\n",
    "    return x1,f"
   ]
  },
  {
   "cell_type": "code",
   "execution_count": 8,
   "metadata": {},
   "outputs": [],
   "source": [
    "boston_bags = list()\n",
    "bag_fea = list()\n",
    "for i in range(30):\n",
    "    g,h = create_sam(x)\n",
    "    boston_bags.append(g)\n",
    "    bag_fea.append(h)"
   ]
  },
  {
   "cell_type": "markdown",
   "metadata": {
    "colab_type": "text",
    "id": "JJ_FwP7xYcKg"
   },
   "source": [
    "<font color='red'><b>Step 2 Building High Variance Models on each of the sample and finding train MSE value:</b></font> Build a DecisionTreeRegressor on each of the sample.\n",
    "<ol><li>Build a regression trees on each of 30 samples.</li>\n",
    "<li>computed the predicted values of each data point(506 data points) in your corpus.</li>\n",
    "<li> predicted house price of $i^{th}$ data point $y^{i}_{pred} =  \\frac{1}{30}\\sum_{k=1}^{30}(\\text{predicted value of } x^{i} \\text{ with } k^{th} \\text{ model})$.</li>\n",
    "<li>Now calculate the $MSE =  \\frac{1}{506}\\sum_{i=1}^{506}(y^{i} - y^{i}_{pred})^{2}$.</li>\n",
    "</ol>"
   ]
  },
  {
   "cell_type": "code",
   "execution_count": 9,
   "metadata": {},
   "outputs": [],
   "source": [
    "from sklearn.tree import DecisionTreeRegressor\n",
    "trees = list() #training the 30 DTs\n",
    "for i in range(30):\n",
    "    clf = DecisionTreeRegressor()\n",
    "    b = boston_bags[i]\n",
    "    clf.fit(b[:,0:(len(b[0])-1)],b[:,len(b[0])-1])\n",
    "    trees.append(clf)"
   ]
  },
  {
   "cell_type": "code",
   "execution_count": 10,
   "metadata": {},
   "outputs": [],
   "source": [
    "train_val = list()\n",
    "for i in range(30):\n",
    "    b = boston_bags[i]\n",
    "    train_val.append(trees[i].predict(b[:,0:(len(b[0])-1)]))"
   ]
  },
  {
   "cell_type": "code",
   "execution_count": 11,
   "metadata": {},
   "outputs": [],
   "source": [
    "mse_dtrain = list()\n",
    "for i in range(30):\n",
    "    b = boston_bags[i]\n",
    "    mse_dtrain.append(mean_squared_error(b[:,len(b[0])-1],train_val[i]))\n"
   ]
  },
  {
   "cell_type": "code",
   "execution_count": 12,
   "metadata": {
    "scrolled": false
   },
   "outputs": [
    {
     "name": "stdout",
     "output_type": "stream",
     "text": [
      "The trained MSE of the bagged sample 1 is 4.677040940045525e-31\n",
      "The trained MSE of the bagged sample 2 is 1.3656959544932932e-30\n",
      "The trained MSE of the bagged sample 3 is 2.930945655761862e-31\n",
      "The trained MSE of the bagged sample 4 is 6.360775678461913e-31\n",
      "The trained MSE of the bagged sample 5 is 6.547857316063734e-31\n",
      "The trained MSE of the bagged sample 6 is 4.349648074242338e-31\n",
      "The trained MSE of the bagged sample 7 is 4.72381134944598e-31\n",
      "The trained MSE of the bagged sample 8 is 0.04940711462450596\n",
      "The trained MSE of the bagged sample 9 is 4.1625664366405165e-31\n",
      "The trained MSE of the bagged sample 10 is 6.547857316063734e-31\n",
      "The trained MSE of the bagged sample 11 is 9.825995529832486\n",
      "The trained MSE of the bagged sample 12 is 8.044510416878303e-31\n",
      "The trained MSE of the bagged sample 13 is 5.238285852850988e-31\n",
      "The trained MSE of the bagged sample 14 is 1.309571463212747e-31\n",
      "The trained MSE of the bagged sample 15 is 8.605755329683765e-31\n",
      "The trained MSE of the bagged sample 16 is 4.1157960272400615e-31\n",
      "The trained MSE of the bagged sample 17 is 5.425367490452809e-31\n",
      "The trained MSE of the bagged sample 18 is 2.4320612888236727e-31\n",
      "The trained MSE of the bagged sample 19 is 4.677040940045525e-31\n",
      "The trained MSE of the bagged sample 20 is 0.004268774703557316\n",
      "The trained MSE of the bagged sample 21 is 6.360775678461913e-31\n",
      "The trained MSE of the bagged sample 22 is 6.797299499532829e-31\n",
      "The trained MSE of the bagged sample 23 is 6.173694040860093e-31\n",
      "The trained MSE of the bagged sample 24 is 7.109102228869197e-31\n",
      "The trained MSE of the bagged sample 25 is 8.901967922553314e-31\n",
      "The trained MSE of the bagged sample 26 is 0.860841379634858\n",
      "The trained MSE of the bagged sample 27 is 3.2427483850982305e-31\n",
      "The trained MSE of the bagged sample 28 is 1.7305051478168442e-31\n",
      "The trained MSE of the bagged sample 29 is 7.358544412338292e-31\n",
      "The trained MSE of the bagged sample 30 is 2.478831698224128e-31\n"
     ]
    }
   ],
   "source": [
    "for i in range(30):\n",
    "    print('The trained MSE of the bagged sample {} is {}'.format(i+1,mse_dtrain[i]))"
   ]
  },
  {
   "cell_type": "code",
   "execution_count": 13,
   "metadata": {},
   "outputs": [
    {
     "name": "stdout",
     "output_type": "stream",
     "text": [
      "2.4581824334029694\n"
     ]
    }
   ],
   "source": [
    "x_c = boston.data\n",
    "y_c = boston.target\n",
    "pred_cor = list()\n",
    "for i in range(30):\n",
    "    pred_cor.append(trees[i].predict(x_c[:,bag_fea[i]])) #predicting via every DT trained\n",
    "\n",
    "pred_y = np.zeros(x_c.shape[0])\n",
    "for i in range(x_c.shape[0]):\n",
    "    for j in range(30):\n",
    "        pred_y[i] += pred_cor[j][i]\n",
    "    pred_y[i] /= 30\n",
    "\n",
    "mse_pop = mean_squared_error(y_c,pred_y)\n",
    "\n",
    "print(mse_pop)"
   ]
  },
  {
   "cell_type": "markdown",
   "metadata": {
    "colab_type": "text",
    "id": "JJ_FwP7xYcKg"
   },
   "source": [
    "<font color='red'><b>Step 3 Calculating the OOB score :</b></font>\n",
    "<ol>\n",
    "<li>Computed the predicted values of each data point(506 data points) in your corpus.</li>\n",
    "<li>Predicted house price of $i^{th}$ data point $y^{i}_{pred} =  \\frac{1}{k}\\sum_{\\text{k= model which was buit on samples not included } x^{i}}(\\text{predicted value of } x^{i} \\text{ with } k^{th} \\text{ model})$.</li>\n",
    "<li>Now calculate the $OOB Score =  \\frac{1}{506}\\sum_{i=1}^{506}(y^{i} - y^{i}_{pred})^{2}$.</li>\n",
    "</ol>"
   ]
  },
  {
   "cell_type": "code",
   "execution_count": 14,
   "metadata": {},
   "outputs": [
    {
     "name": "stdout",
     "output_type": "stream",
     "text": [
      "14.251832307035144\n"
     ]
    }
   ],
   "source": [
    "pred_y_oob = np.zeros(x_c.shape[0])\n",
    "for i in (range(x_c.shape[0])):\n",
    "    count_b = 0\n",
    "    for j in range(30):\n",
    "        count = 0\n",
    "        for k in range(x_c.shape[0]):\n",
    "            if np.all(np.equal(x_c[i,bag_fea[j]],np.array(boston_bags[j][k,0:len(boston_bags[j][0])-1]))):\n",
    "                count += 1\n",
    "                break\n",
    "        if count != 0:\n",
    "            continue\n",
    "        pred_y_oob[i] += pred_cor[j][i]\n",
    "        count_b += 1\n",
    "    pred_y_oob[i] /= count_b\n",
    "\n",
    "mse_oob_pop = mean_squared_error(y_c,pred_y_oob)\n",
    "print(mse_oob_pop)"
   ]
  },
  {
   "cell_type": "markdown",
   "metadata": {
    "colab_type": "text",
    "id": "JJ_FwP7xYcKg"
   },
   "source": [
    "### Task: 2\n",
    "<pre>\n",
    "<font color='red'><b>Computing CI of OOB Score and Train MSE</b></font>\n",
    "<ol>\n",
    "<li> Repeat Task 1 for 35 times, and for each iteration store the Train MSE and OOB score </li>\n",
    "<li> After this we will have 35 Train MSE values and 35 OOB scores </li>\n",
    "<li> using these 35 values (assume like a sample) find the confidence intravels of MSE and OOB Score </li>\n",
    "<li> you need to report CI of MSE and CI of OOB Score </li>\n",
    "<li> Note: Refer the Central_Limit_theorem.ipynb to check how to find the confidence intravel</li>\n",
    "</ol>\n",
    "</pre>"
   ]
  },
  {
   "cell_type": "code",
   "execution_count": 15,
   "metadata": {},
   "outputs": [],
   "source": [
    "def ci_cal(x, boston):\n",
    "    \n",
    "    def create_sam(x):\n",
    "        x1 = x[np.random.choice(x.shape[0], 303, replace=False), :]\n",
    "        x1_ = x1[np.random.choice(x1.shape[0], 203, replace=True), :]\n",
    "        x1 = np.concatenate((x1, x1_))\n",
    "        f = np.random.choice(x.shape[1]-1, np.random.randint(3,x.shape[1]-1,1), replace=False)\n",
    "        x1 = x1[:,np.append(f,np.array([13]))]\n",
    "        return x1,f\n",
    "    \n",
    "    mse_corpus = list()\n",
    "    mse_oob = list()\n",
    "    for _ in (range(35)):\n",
    "        \n",
    "        boston_bags = list()\n",
    "        bag_fea = list()\n",
    "        for i in range(30):\n",
    "            g,h = create_sam(x)\n",
    "            boston_bags.append(g)\n",
    "            bag_fea.append(h)\n",
    "        \n",
    "        trees = list() #training the 30 DTs\n",
    "        for i in range(30):\n",
    "            clf = DecisionTreeRegressor()\n",
    "            b = boston_bags[i]\n",
    "            clf.fit(b[:,0:(len(b[0])-1)],b[:,len(b[0])-1])\n",
    "            trees.append(clf)\n",
    "            \n",
    "        x_c = boston.data\n",
    "        pred_cor = list()\n",
    "        for i in range(30):\n",
    "            pred_cor.append(trees[i].predict(x_c[:,bag_fea[i]]))\n",
    "        \n",
    "        y_c = boston.target\n",
    "        \n",
    "        pred_y = np.zeros(x_c.shape[0])\n",
    "        for i in range(x_c.shape[0]):\n",
    "            for j in range(30):\n",
    "                pred_y[i] += pred_cor[j][i]\n",
    "            pred_y[i] /= 30\n",
    "            \n",
    "        m = mean_squared_error(y_c,pred_y)\n",
    "        \n",
    "        mse_corpus.append(m)\n",
    "        \n",
    "        pred_y_oob = np.zeros(x_c.shape[0])\n",
    "        for i in (range(x_c.shape[0])):\n",
    "            count_b = 0\n",
    "            for j in range(30):\n",
    "                count = 0\n",
    "                for k in range(x_c.shape[0]):\n",
    "                    if np.all(np.equal(x_c[i,bag_fea[j]],np.array(boston_bags[j][k,0:len(boston_bags[j][0])-1]))):\n",
    "                        count += 1\n",
    "                        break\n",
    "                if count != 0:\n",
    "                    continue\n",
    "                pred_y_oob[i] += pred_cor[j][i]\n",
    "                count_b += 1\n",
    "            pred_y_oob[i] /= count_b\n",
    "            \n",
    "        ms = mean_squared_error(y_c,pred_y_oob)\n",
    "        \n",
    "        mse_oob.append(ms)\n",
    "    return mse_corpus, mse_oob"
   ]
  },
  {
   "cell_type": "code",
   "execution_count": 16,
   "metadata": {},
   "outputs": [],
   "source": [
    "mse_corpus, mse_oob = ci_cal(x,boston)"
   ]
  },
  {
   "cell_type": "code",
   "execution_count": 17,
   "metadata": {},
   "outputs": [],
   "source": [
    "m = np.asarray(mse_corpus)\n",
    "mo = np.asarray(mse_oob)"
   ]
  },
  {
   "cell_type": "code",
   "execution_count": 22,
   "metadata": {},
   "outputs": [
    {
     "name": "stdout",
     "output_type": "stream",
     "text": [
      "+----------+-------------+--------------------+--------------------+------------+----------+-----------+-------+\n",
      "| #samples | Sample Size |    Sample mean     |  Population Mean   | Sample Std | Left C.I | Right C.I | Catch |\n",
      "+----------+-------------+--------------------+--------------------+------------+----------+-----------+-------+\n",
      "|    1     |      20     | 2.4627279474175747 | 2.4581824334029694 |   0.062    |  2.339   |   2.586   |  True |\n",
      "|    2     |      20     | 2.5253588468271744 | 2.4581824334029694 |   0.063    |  2.399   |   2.651   |  True |\n",
      "|    3     |      20     | 2.4443461026272546 | 2.4581824334029694 |   0.053    |  2.338   |    2.55   |  True |\n",
      "|    4     |      20     | 2.430984935219385  | 2.4581824334029694 |   0.068    |  2.295   |   2.567   |  True |\n",
      "|    5     |      20     | 2.553854592022279  | 2.4581824334029694 |   0.063    |  2.427   |    2.68   |  True |\n",
      "|    6     |      20     | 2.531178269637236  | 2.4581824334029694 |    0.07    |  2.392   |   2.671   |  True |\n",
      "|    7     |      20     | 2.488160563315159  | 2.4581824334029694 |   0.068    |  2.353   |   2.623   |  True |\n",
      "|    8     |      20     |  2.49113068869888  | 2.4581824334029694 |   0.076    |  2.338   |   2.644   |  True |\n",
      "|    9     |      20     | 2.5123601299244216 | 2.4581824334029694 |   0.065    |  2.383   |   2.641   |  True |\n",
      "|    10    |      20     | 2.422140524861403  | 2.4581824334029694 |   0.073    |  2.275   |   2.569   |  True |\n",
      "+----------+-------------+--------------------+--------------------+------------+----------+-----------+-------+\n",
      "C.I of mse_scores\n"
     ]
    }
   ],
   "source": [
    "from prettytable import PrettyTable\n",
    "import random\n",
    "\n",
    "x = PrettyTable()\n",
    "x = PrettyTable([\"#samples\", \"Sample Size\", \"Sample mean\", \"Population Mean\",\"Sample Std\",\"Left C.I\",\"Right C.I\", \"Catch\"])\n",
    "for i in range(10):\n",
    "    sample=m[random.sample(range(0, m.shape[0]), 20)]\n",
    "    sample_mean = sample.mean()\n",
    "    sample_std =  sample.std()\n",
    "    sample_size = len(sample)\n",
    "    # here we are using sample standard deviation instead of population standard deviation\n",
    "    left_limit  = np.round(sample_mean - 2*(sample_std/np.sqrt(sample_size)), 3)\n",
    "    right_limit = np.round(sample_mean + 2*(sample_std/np.sqrt(sample_size)), 3)\n",
    "    row = []\n",
    "    row.append(i+1)\n",
    "    row.append(sample_size)\n",
    "    row.append(sample_mean)\n",
    "    row.append(mse_pop)\n",
    "    row.append(np.round(sample_std/np.sqrt(sample_size),3))\n",
    "    row.append(left_limit)\n",
    "    row.append(right_limit)\n",
    "    row.append((mse_pop <= right_limit) and (mse_pop >= left_limit))\n",
    "    x.add_row(row)\n",
    "print(x)\n",
    "print(\"C.I of mse_scores\")"
   ]
  },
  {
   "cell_type": "code",
   "execution_count": 23,
   "metadata": {},
   "outputs": [
    {
     "name": "stdout",
     "output_type": "stream",
     "text": [
      "+----------+-------------+--------------------+--------------------+------------+----------+-----------+-------+\n",
      "| #samples | Sample Size |    Sample mean     |  Population Mean   | Sample Std | Left C.I | Right C.I | Catch |\n",
      "+----------+-------------+--------------------+--------------------+------------+----------+-----------+-------+\n",
      "|    1     |      20     | 14.070618847453996 | 14.251832307035144 |   0.263    |  13.545  |   14.597  |  True |\n",
      "|    2     |      20     | 14.18649399839945  | 14.251832307035144 |   0.245    |  13.696  |   14.677  |  True |\n",
      "|    3     |      20     | 14.303925748788576 | 14.251832307035144 |   0.205    |  13.894  |   14.714  |  True |\n",
      "|    4     |      20     | 14.39395403482023  | 14.251832307035144 |   0.242    |  13.91   |   14.878  |  True |\n",
      "|    5     |      20     | 14.457514027766871 | 14.251832307035144 |   0.178    |  14.102  |   14.813  |  True |\n",
      "|    6     |      20     | 13.98172905104899  | 14.251832307035144 |   0.244    |  13.494  |   14.47   |  True |\n",
      "|    7     |      20     | 14.137690958721194 | 14.251832307035144 |   0.235    |  13.668  |   14.607  |  True |\n",
      "|    8     |      20     | 14.197043425245136 | 14.251832307035144 |   0.223    |  13.75   |   14.644  |  True |\n",
      "|    9     |      20     | 14.112631773391621 | 14.251832307035144 |   0.192    |  13.729  |   14.497  |  True |\n",
      "|    10    |      20     | 14.146549701142698 | 14.251832307035144 |   0.233    |  13.681  |   14.612  |  True |\n",
      "+----------+-------------+--------------------+--------------------+------------+----------+-----------+-------+\n",
      "C.I of oob mse_scores\n"
     ]
    }
   ],
   "source": [
    "x = PrettyTable()\n",
    "x = PrettyTable([\"#samples\", \"Sample Size\", \"Sample mean\", \"Population Mean\",\"Sample Std\",\"Left C.I\",\"Right C.I\", \"Catch\"])\n",
    "for i in range(10):\n",
    "    sample=mo[random.sample(range(0, mo.shape[0]), 20)]\n",
    "    sample_mean = sample.mean()\n",
    "    sample_std =  sample.std()\n",
    "    sample_size = len(sample)\n",
    "    # here we are using sample standard deviation instead of population standard deviation\n",
    "    left_limit  = np.round(sample_mean - 2*(sample_std/np.sqrt(sample_size)), 3)\n",
    "    right_limit = np.round(sample_mean + 2*(sample_std/np.sqrt(sample_size)), 3)\n",
    "    row = []\n",
    "    row.append(i+1)\n",
    "    row.append(sample_size)\n",
    "    row.append(sample_mean)\n",
    "    row.append(mse_oob_pop)\n",
    "    row.append(np.round(sample_std/np.sqrt(sample_size),3))\n",
    "    row.append(left_limit)\n",
    "    row.append(right_limit)\n",
    "    row.append((mse_oob_pop <= right_limit) and (mse_oob_pop >= left_limit))\n",
    "    x.add_row(row)\n",
    "print(x)\n",
    "print(\"C.I of oob mse_scores\")"
   ]
  },
  {
   "cell_type": "markdown",
   "metadata": {
    "colab_type": "text",
    "id": "JJ_FwP7xYcKg"
   },
   "source": [
    "### Task: 3\n",
    "<pre>\n",
    "<font color='red'><b>Given a single query point predict the price of house.</b></font>\n",
    "\n",
    "<li>Consider xq= [0.18,20.0,5.00,0.0,0.421,5.60,72.2,7.95,7.0,30.0,19.1,372.13,18.60] Predict the house price for this point as mentioned in the step 2 of Task 1. </li>\n",
    "</pre>"
   ]
  },
  {
   "cell_type": "code",
   "execution_count": 20,
   "metadata": {},
   "outputs": [],
   "source": [
    "xq = [0.18,20.0,5.00,0.0,0.421,5.60,72.2,7.95,7.0,30.0,19.1,372.13,18.60]\n",
    "xq = np.asarray(xq)\n",
    "pred_cor = list()\n",
    "for i in range(30):\n",
    "    bh = xq[bag_fea[i]].reshape(1,-1)\n",
    "    pred_cor.append(trees[i].predict(bh))"
   ]
  },
  {
   "cell_type": "code",
   "execution_count": 21,
   "metadata": {},
   "outputs": [
    {
     "name": "stdout",
     "output_type": "stream",
     "text": [
      "Predicted value of xq is [19.86333333]\n"
     ]
    }
   ],
   "source": [
    "pred_y = 0\n",
    "for j in range(30):\n",
    "    pred_y += pred_cor[j]\n",
    "pred_y /= 30\n",
    "\n",
    "print(\"Predicted value of xq is {}\".format(pred_y))"
   ]
  }
 ],
 "metadata": {
  "colab": {
   "collapsed_sections": [],
   "name": "Bootstrap_Random_Forest_instructions.ipynb",
   "provenance": []
  },
  "kernelspec": {
   "display_name": "Python 3",
   "language": "python",
   "name": "python3"
  },
  "language_info": {
   "codemirror_mode": {
    "name": "ipython",
    "version": 3
   },
   "file_extension": ".py",
   "mimetype": "text/x-python",
   "name": "python",
   "nbconvert_exporter": "python",
   "pygments_lexer": "ipython3",
   "version": "3.6.9"
  }
 },
 "nbformat": 4,
 "nbformat_minor": 1
}
